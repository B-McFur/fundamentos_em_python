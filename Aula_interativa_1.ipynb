{
  "nbformat": 4,
  "nbformat_minor": 0,
  "metadata": {
    "colab": {
      "name": "Aula_interativa_1.ipynb",
      "provenance": []
    },
    "kernelspec": {
      "name": "python3",
      "display_name": "Python 3"
    }
  },
  "cells": [
    {
      "cell_type": "markdown",
      "metadata": {
        "id": "w95CuZOIcOS8"
      },
      "source": [
        "# Aula Interativa 1"
      ]
    },
    {
      "cell_type": "markdown",
      "metadata": {
        "id": "4kzOGx5nora4"
      },
      "source": [
        "Data: 09/03/2021\r\n",
        "\r\n",
        "Professor: Erick Faria\r\n",
        "\r\n",
        "GitHub: https://github.com/erickfaria\r\n",
        "\r\n",
        "Fonte: Códigos adaptados de codigoquant  \r\n",
        "Para conhecer mais, visite: https://github.com/codigoquant"
      ]
    },
    {
      "cell_type": "markdown",
      "metadata": {
        "id": "T61Q_MLwqMGy"
      },
      "source": [
        "# **Exemplo de aplicação do Python para Análise Financeira**"
      ]
    },
    {
      "cell_type": "markdown",
      "metadata": {
        "id": "JaY0KQ7DEwNM"
      },
      "source": [
        "# Exemplo 1 - Criando um Ranking de Ações"
      ]
    },
    {
      "cell_type": "markdown",
      "metadata": {
        "id": "JcysZbVyCIFc"
      },
      "source": [
        "## Parte 1 - Importação e Instalação dos pacotes e módulos"
      ]
    },
    {
      "cell_type": "code",
      "metadata": {
        "id": "CgKTgVYqqGKU"
      },
      "source": [
        "# Importação dos pacotes\r\n",
        "\r\n",
        "import numpy as np # Pacote indicado para trabalhar com números\r\n",
        "import pandas as pd # Pacote indicado para lidar com Data Frames\r\n",
        "import seaborn as sns # Pacote indicado para representações gráficas\r\n",
        "import matplotlib.pyplot as plt # Pacote indicado para representações gráficas\r\n",
        "import pandas_datareader.data as web # Função para ler dados na web\r\n",
        "import requests # Pacote para fazer requisições a sites\r\n",
        "\r\n",
        "from google.colab import files\r\n",
        "\r\n",
        "import warnings # Módulo para ignorar erros\r\n",
        "warnings.filterwarnings('ignore')\r\n",
        "\r\n",
        "!pip install yfinance --upgrade --no-cache-dir # Instala o pacote yfinance\r\n",
        "import yfinance as yf # Módulo para ler as cotações\r\n",
        "yf.pdr_override() # Sobrescreve pelo método yfinance"
      ],
      "execution_count": null,
      "outputs": []
    },
    {
      "cell_type": "markdown",
      "metadata": {
        "id": "p9O8Q4RACFQk"
      },
      "source": [
        "## Parte 2 - Leitura dos dados\r\n",
        "\r\n"
      ]
    },
    {
      "cell_type": "code",
      "metadata": {
        "id": "a-tpu-JbqxxN"
      },
      "source": [
        "url = 'https://www.fundamentus.com.br/resultado.php' # Variável com a url\r\n",
        "\r\n",
        "header = {\r\n",
        "  \"User-Agent\": \"Mozilla/5.0 (Windows NT 10.0; Win64; x64) AppleWebKit/537.36 (KHTML, like Gecko) Chrome/84.0.4147.89 Safari/537.36\"  \r\n",
        " }\r\n",
        "\r\n",
        "r = requests.get(url, headers=header) # Lê os arquivos do site fundamentus"
      ],
      "execution_count": 10,
      "outputs": []
    },
    {
      "cell_type": "markdown",
      "metadata": {
        "id": "KY5rqWphCiSE"
      },
      "source": [
        "## Parte 3 - Criação, Limpeza e Padronização dos dados (DataFrame)"
      ]
    },
    {
      "cell_type": "markdown",
      "metadata": {
        "id": "XjpXKupkAVMu"
      },
      "source": [
        "**Após ler os dados, vamos criar o DataFrame com as informações**"
      ]
    },
    {
      "cell_type": "code",
      "metadata": {
        "id": "9pgl0ThgruQ3"
      },
      "source": [
        "# Cria o DF\r\n",
        "df = pd.read_html(r.text,  decimal=',', thousands='.')[0]\r\n",
        "\r\n",
        "# Define o DF com os stickers das Ações que vou analisar\r\n",
        "carteira = df[df['Papel'].isin(['TAEE11', 'NEOE3', 'CMIG4', 'CPFE3', 'KLBN11', 'BBAS3'])]"
      ],
      "execution_count": 11,
      "outputs": []
    },
    {
      "cell_type": "code",
      "metadata": {
        "id": "Uk8G6Xl2AujJ"
      },
      "source": [
        "carteira"
      ],
      "execution_count": null,
      "outputs": []
    },
    {
      "cell_type": "markdown",
      "metadata": {
        "id": "GDQC2KpFr-Mz"
      },
      "source": [
        "**Agora vamos fazer algumas substituições para manipular os dados em Python.**   \r\n",
        "**Vamos substituir as vírgulas por pontos, retirar o sinal de % e remover alguns pontos**"
      ]
    },
    {
      "cell_type": "code",
      "metadata": {
        "id": "ALyV-16rr5_E"
      },
      "source": [
        "# As substituições serão nas colunas ('Div.Yield', 'Mrg Ebit', 'Mrg. Líq.', 'ROIC', 'ROE', 'Cresc. Rec.5a')\r\n",
        "\r\n",
        "for coluna in ['Div.Yield', 'Mrg Ebit', 'Mrg. Líq.', 'ROIC', 'ROE', 'Cresc. Rec.5a']:\r\n",
        "  carteira[coluna] = carteira[coluna].str.replace('.', '')\r\n",
        "  carteira[coluna] = carteira[coluna].str.replace(',', '.')\r\n",
        "  carteira[coluna] = carteira[coluna].str.rstrip('%').astype('float') / 100"
      ],
      "execution_count": 13,
      "outputs": []
    },
    {
      "cell_type": "code",
      "metadata": {
        "id": "iCFiibQ9A9xq"
      },
      "source": [
        "carteira"
      ],
      "execution_count": null,
      "outputs": []
    },
    {
      "cell_type": "markdown",
      "metadata": {
        "id": "H5CILzBXsJMQ"
      },
      "source": [
        "**Agora vamos criar um ranking em nossa Carteira de ações.**\r\n",
        "**No exemplo a seguir vamos utilizar a função sort.**\r\n",
        "**As colunas utilizadas serão EV/EBIT e ROIC.**\r\n",
        "**Posteriormente você pode modificar e utilizar outras colunas.**"
      ]
    },
    {
      "cell_type": "code",
      "metadata": {
        "id": "mcEDCIPlsJp7"
      },
      "source": [
        "ranking = pd.DataFrame() # Cria o DF chamado ranking\r\n",
        "ranking['pos'] = range(1,6) # Cria uma coluna que vai dar a posição no Ranking\r\n",
        "ranking['EV/EBIT'] = carteira[carteira['EV/EBIT'] > 0 ].sort_values(by=['EV/EBIT'])['Papel'][:5].values\r\n",
        "ranking['ROIC'] = carteira.sort_values(by=['ROIC'], ascending=False)['Papel'][:5].values"
      ],
      "execution_count": 16,
      "outputs": []
    },
    {
      "cell_type": "code",
      "metadata": {
        "id": "35s1KPWJsL2x"
      },
      "source": [
        "ranking"
      ],
      "execution_count": null,
      "outputs": []
    },
    {
      "cell_type": "markdown",
      "metadata": {
        "id": "FrK0dv94s42V"
      },
      "source": [
        "# Exemplo 2 - Representação Gráfica da Carteira de Ações"
      ]
    },
    {
      "cell_type": "markdown",
      "metadata": {
        "id": "_7vTLePiGXT3"
      },
      "source": [
        "## Parte 1 - Importa os Dadsos"
      ]
    },
    {
      "cell_type": "markdown",
      "metadata": {
        "id": "7dXwJ9Q1FtHn"
      },
      "source": [
        "**Nesse exemplo, vamos usar os dados do Yahoo Finance**"
      ]
    },
    {
      "cell_type": "code",
      "metadata": {
        "id": "JZVJYNuRs822"
      },
      "source": [
        "# Faz a leitura dos dados do Ibovespa e define o período que desejamos.\r\n",
        "\r\n",
        "ibov = web.get_data_yahoo('^BVSP', start='2011-03-09', end='2021-03-09')"
      ],
      "execution_count": null,
      "outputs": []
    },
    {
      "cell_type": "code",
      "metadata": {
        "id": "uBkBVvehuQuw"
      },
      "source": [
        "#Imprime as 5 primeiras linhas\r\n",
        "\r\n",
        "ibov.head()"
      ],
      "execution_count": null,
      "outputs": []
    },
    {
      "cell_type": "code",
      "metadata": {
        "id": "K5K-TbUzuRWn"
      },
      "source": [
        "# Imprime as 5 últimas linhas\r\n",
        "\r\n",
        "ibov.tail()"
      ],
      "execution_count": null,
      "outputs": []
    },
    {
      "cell_type": "markdown",
      "metadata": {
        "id": "2zO0tU60GexS"
      },
      "source": [
        "## Parte 2 - Faz a plotagem (gera os gráficos)"
      ]
    },
    {
      "cell_type": "markdown",
      "metadata": {
        "id": "5M2tZIziIZHp"
      },
      "source": [
        "### Gráfico 1\r\n",
        "\r\n"
      ]
    },
    {
      "cell_type": "code",
      "metadata": {
        "id": "8YyHSE-kuTE2"
      },
      "source": [
        "ibov[\"Close\"].plot(figsize=(22,8), label=\"IBOV\") # Linha IBOV\r\n",
        "ibov[\"Close\"].rolling(21).mean().plot(label=\"MM21\") # Linha Média Móvel 21 Dias\r\n",
        "ibov[\"Close\"].rolling(200).mean().plot(label=\"MM200\") # Linha Média Móvel 200 Dias\r\n",
        "plt.legend(); # Plota as Legendas"
      ],
      "execution_count": null,
      "outputs": []
    },
    {
      "cell_type": "markdown",
      "metadata": {
        "id": "CCuWJPuOIgxv"
      },
      "source": [
        "### Gráfico 2"
      ]
    },
    {
      "cell_type": "markdown",
      "metadata": {
        "id": "0OASmtlnHAPw"
      },
      "source": [
        "**Agora vamos mudar o eixo x do gráfico.**\r\n",
        "**Nesse exemplo vamos analisar o IBOV no ano de 2020**"
      ]
    },
    {
      "cell_type": "code",
      "metadata": {
        "id": "rDFLPVoouXNI"
      },
      "source": [
        "ibov_fatiado = ibov[ibov.index.year == 2020] # Aqui definimos o ano de 2020\r\n",
        "ibov_fatiado[\"Close\"].plot(figsize=(22,8), label=\"IBOV\")\r\n",
        "ibov_fatiado[\"Close\"].rolling(21).mean().plot(label=\"MM21\") # Linha Média Móvel 21 Dias\r\n",
        "ibov_fatiado[\"Close\"].rolling(200).mean().plot(label=\"MM200\") # Linha Média Móvel 200 Dias\r\n",
        "plt.legend(); # Plota as Legendas"
      ],
      "execution_count": null,
      "outputs": []
    },
    {
      "cell_type": "markdown",
      "metadata": {
        "id": "_SlcyRH7IkOW"
      },
      "source": [
        "### Gráfico 3"
      ]
    },
    {
      "cell_type": "markdown",
      "metadata": {
        "id": "iiUWUkFcIGZF"
      },
      "source": [
        "**Agora vamos analizar entre dois períodos**"
      ]
    },
    {
      "cell_type": "code",
      "metadata": {
        "id": "V0_kGOuOuZCW"
      },
      "source": [
        "ibov_fatiado = ibov[(ibov.index.year >= 2011) & (ibov.index.year <= 2021)]\r\n",
        "ibov_fatiado[\"Close\"].plot(figsize=(22,8), label=\"IBOV\")\r\n",
        "ibov_fatiado[\"Close\"].rolling(21).mean().plot(label=\"MM21\") # Linha Média Móvel 21 Dias\r\n",
        "ibov_fatiado[\"Close\"].rolling(200).mean().plot(label=\"MM200\") # Linha Média Móvel 200 Dias\r\n",
        "plt.legend(); # Plota as Legendas"
      ],
      "execution_count": null,
      "outputs": []
    },
    {
      "cell_type": "markdown",
      "metadata": {
        "id": "gvLmZkrsInaw"
      },
      "source": [
        "**Lendo os valores que geraram os Gráficos**"
      ]
    },
    {
      "cell_type": "code",
      "metadata": {
        "id": "H4-Il7ZjubB9"
      },
      "source": [
        "# Todos os dados referente ao mês 12 (Dezembro)\r\n",
        "\r\n",
        "ibov_fatiado = ibov[ibov.index.month == 12]\r\n",
        "ibov_fatiado.tail(50)"
      ],
      "execution_count": null,
      "outputs": []
    },
    {
      "cell_type": "code",
      "metadata": {
        "id": "QhNbyPBIufq2"
      },
      "source": [
        "# Todos os dados referente ao dia 14 de cada mês\r\n",
        "\r\n",
        "ibov_fatiado = ibov[ibov.index.day == 14]\r\n",
        "ibov_fatiado.tail(50)"
      ],
      "execution_count": null,
      "outputs": []
    },
    {
      "cell_type": "markdown",
      "metadata": {
        "id": "2DmpiyLmydB7"
      },
      "source": [
        "# Exemplo 3 - Simulando uma carteira de Ações em comparação ao Ibov"
      ]
    },
    {
      "cell_type": "markdown",
      "metadata": {
        "id": "meiLwQFeLsED"
      },
      "source": [
        "## Parte 1 - Importação dos dados"
      ]
    },
    {
      "cell_type": "code",
      "metadata": {
        "id": "jOrmsmOXykfi"
      },
      "source": [
        "# Definindo os papeis que queremos analisar\r\n",
        "tickers = \"ABEV3.SA ITSA4.SA WEGE3.SA OIBR3.SA VALE3.SA\"\r\n",
        "\r\n",
        "carteira = yf.download(tickers, period='5y')[\"Adj Close\"]\r\n",
        "\r\n",
        "ibov = yf.download('^BVSP', period='5y')['Adj Close']"
      ],
      "execution_count": null,
      "outputs": []
    },
    {
      "cell_type": "markdown",
      "metadata": {
        "id": "_z4SWnIuL1oh"
      },
      "source": [
        "## Parte 2 - Limpeza dos dados"
      ]
    },
    {
      "cell_type": "code",
      "metadata": {
        "id": "tSFXGVJTzBjD"
      },
      "source": [
        "# Aqui vamos fazer as exclusão dos valores NaN (Missing)da carteira\r\n",
        "carteira.dropna(inplace=True)\r\n",
        "carteira"
      ],
      "execution_count": null,
      "outputs": []
    },
    {
      "cell_type": "code",
      "metadata": {
        "id": "bH9Ld2PazIYJ"
      },
      "source": [
        "# Aqui vamos fazer as exclusão dos valores NaN (Missing)do IBOV\r\n",
        "ibov.dropna(inplace=True)\r\n",
        "ibov"
      ],
      "execution_count": null,
      "outputs": []
    },
    {
      "cell_type": "markdown",
      "metadata": {
        "id": "ZuwPW9tlMT4a"
      },
      "source": [
        "## Parte 3 - Representação Gráfica"
      ]
    },
    {
      "cell_type": "code",
      "metadata": {
        "id": "Ur-pGK1-zKiv"
      },
      "source": [
        "# Vamos fazer a plotagem do Gráfico\r\n",
        "sns.set()\r\n",
        "carteira.plot(figsize=(22,8));"
      ],
      "execution_count": null,
      "outputs": []
    },
    {
      "cell_type": "markdown",
      "metadata": {
        "id": "Pp8P3PJkMo6X"
      },
      "source": [
        "## Parte 4 - Tratamento dos dados e Representação Gráfica"
      ]
    },
    {
      "cell_type": "markdown",
      "metadata": {
        "id": "YSldZqGrMyEz"
      },
      "source": [
        "Agora vamos utilizar um método muito comum no mercado financeiro que é normalizar a carteira. Alguns analistas utilizam esse método para tirar distorções dos papeis e permitir a comparação entre eles."
      ]
    },
    {
      "cell_type": "code",
      "metadata": {
        "id": "8433ntspz8_8"
      },
      "source": [
        "carteira_normalizada = (carteira / carteira.iloc[0])*10000 # Faz a normalização da Carteira\r\n",
        "carteira_normalizada.dropna(inplace=True) # Apaga os missing"
      ],
      "execution_count": 51,
      "outputs": []
    },
    {
      "cell_type": "code",
      "metadata": {
        "id": "IGck-sbCz_Ts"
      },
      "source": [
        "# Gera o gráfico da Carteira Normalizada\r\n",
        "carteira_normalizada.plot(figsize=(22,8));"
      ],
      "execution_count": null,
      "outputs": []
    },
    {
      "cell_type": "code",
      "metadata": {
        "id": "rbsCkAaG0Qv3"
      },
      "source": [
        "# Cria a Coluna Saldo da Carteira Normalizada\r\n",
        "carteira_normalizada[\"saldo\"] = carteira_normalizada.sum(axis=1)"
      ],
      "execution_count": 53,
      "outputs": []
    },
    {
      "cell_type": "code",
      "metadata": {
        "id": "dmgT6unk0SjD"
      },
      "source": [
        "carteira_normalizada"
      ],
      "execution_count": null,
      "outputs": []
    },
    {
      "cell_type": "code",
      "metadata": {
        "id": "mRD_gP7J0Ukg"
      },
      "source": [
        "# Faz o método de normalizar com o IBOV\r\n",
        "ibov_normalizado = (ibov / ibov.iloc[0])*50000\r\n",
        "ibov_normalizado"
      ],
      "execution_count": null,
      "outputs": []
    },
    {
      "cell_type": "code",
      "metadata": {
        "id": "BSWACFpS0ZXr"
      },
      "source": [
        "# Gera um gráfico comparativo entre a carteira e o IBOV normalizados\r\n",
        "carteira_normalizada[\"saldo\"].plot(figsize=(22,8), label=\"Carteira de Ações\")\r\n",
        "ibov_normalizado.plot(label=\"IBOV\")\r\n",
        "plt.legend();"
      ],
      "execution_count": null,
      "outputs": []
    },
    {
      "cell_type": "code",
      "metadata": {
        "id": "ZCLZmdoZ0kJX"
      },
      "source": [
        "# Utiliza a função describe para gerar os valores de estatística descritiva\r\n",
        "carteira_normalizada.describe()"
      ],
      "execution_count": null,
      "outputs": []
    },
    {
      "cell_type": "markdown",
      "metadata": {
        "id": "ecMIXSeN1gdN"
      },
      "source": [
        "# Exemplo 4 - Correlação entre Dólar e o Ibovespa"
      ]
    },
    {
      "cell_type": "markdown",
      "metadata": {
        "id": "hLxctbAIZnil"
      },
      "source": [
        "## Parte 1 - Faz a importação dos dados"
      ]
    },
    {
      "cell_type": "code",
      "metadata": {
        "colab": {
          "base_uri": "https://localhost:8080/"
        },
        "id": "XmXYtSPF1kZN",
        "outputId": "242e0d51-16f1-482c-c821-185d93bc39f3"
      },
      "source": [
        "# Cria a Carteira e importa os dados.\r\n",
        "tickers = \"^BVSP USDBRL=X\"\r\n",
        "carteira = yf.download(tickers, start=\"2011-01-01\")[\"Close\"] # Define a data de início"
      ],
      "execution_count": 63,
      "outputs": [
        {
          "output_type": "stream",
          "text": [
            "[*********************100%***********************]  2 of 2 completed\n"
          ],
          "name": "stdout"
        }
      ]
    },
    {
      "cell_type": "code",
      "metadata": {
        "colab": {
          "base_uri": "https://localhost:8080/",
          "height": 455
        },
        "id": "BNtg9yrM1oS1",
        "outputId": "cf9509b3-05ec-46c1-d9f0-a7d7aedd2b7a"
      },
      "source": [
        "carteira"
      ],
      "execution_count": 64,
      "outputs": [
        {
          "output_type": "execute_result",
          "data": {
            "text/html": [
              "<div>\n",
              "<style scoped>\n",
              "    .dataframe tbody tr th:only-of-type {\n",
              "        vertical-align: middle;\n",
              "    }\n",
              "\n",
              "    .dataframe tbody tr th {\n",
              "        vertical-align: top;\n",
              "    }\n",
              "\n",
              "    .dataframe thead th {\n",
              "        text-align: right;\n",
              "    }\n",
              "</style>\n",
              "<table border=\"1\" class=\"dataframe\">\n",
              "  <thead>\n",
              "    <tr style=\"text-align: right;\">\n",
              "      <th></th>\n",
              "      <th>USDBRL=X</th>\n",
              "      <th>^BVSP</th>\n",
              "    </tr>\n",
              "    <tr>\n",
              "      <th>Date</th>\n",
              "      <th></th>\n",
              "      <th></th>\n",
              "    </tr>\n",
              "  </thead>\n",
              "  <tbody>\n",
              "    <tr>\n",
              "      <th>2011-01-03</th>\n",
              "      <td>1.6155</td>\n",
              "      <td>69962.00000</td>\n",
              "    </tr>\n",
              "    <tr>\n",
              "      <th>2011-01-04</th>\n",
              "      <td>1.6465</td>\n",
              "      <td>70318.00000</td>\n",
              "    </tr>\n",
              "    <tr>\n",
              "      <th>2011-01-05</th>\n",
              "      <td>1.6675</td>\n",
              "      <td>71091.00000</td>\n",
              "    </tr>\n",
              "    <tr>\n",
              "      <th>2011-01-06</th>\n",
              "      <td>1.6750</td>\n",
              "      <td>70579.00000</td>\n",
              "    </tr>\n",
              "    <tr>\n",
              "      <th>2011-01-07</th>\n",
              "      <td>1.6859</td>\n",
              "      <td>70057.00000</td>\n",
              "    </tr>\n",
              "    <tr>\n",
              "      <th>...</th>\n",
              "      <td>...</td>\n",
              "      <td>...</td>\n",
              "    </tr>\n",
              "    <tr>\n",
              "      <th>2021-03-03</th>\n",
              "      <td>5.6751</td>\n",
              "      <td>111184.00000</td>\n",
              "    </tr>\n",
              "    <tr>\n",
              "      <th>2021-03-04</th>\n",
              "      <td>5.6175</td>\n",
              "      <td>112690.00000</td>\n",
              "    </tr>\n",
              "    <tr>\n",
              "      <th>2021-03-05</th>\n",
              "      <td>5.6683</td>\n",
              "      <td>115202.00000</td>\n",
              "    </tr>\n",
              "    <tr>\n",
              "      <th>2021-03-08</th>\n",
              "      <td>5.6895</td>\n",
              "      <td>110612.00000</td>\n",
              "    </tr>\n",
              "    <tr>\n",
              "      <th>2021-03-09</th>\n",
              "      <td>5.8517</td>\n",
              "      <td>110393.15625</td>\n",
              "    </tr>\n",
              "  </tbody>\n",
              "</table>\n",
              "<p>2657 rows × 2 columns</p>\n",
              "</div>"
            ],
            "text/plain": [
              "            USDBRL=X         ^BVSP\n",
              "Date                              \n",
              "2011-01-03    1.6155   69962.00000\n",
              "2011-01-04    1.6465   70318.00000\n",
              "2011-01-05    1.6675   71091.00000\n",
              "2011-01-06    1.6750   70579.00000\n",
              "2011-01-07    1.6859   70057.00000\n",
              "...              ...           ...\n",
              "2021-03-03    5.6751  111184.00000\n",
              "2021-03-04    5.6175  112690.00000\n",
              "2021-03-05    5.6683  115202.00000\n",
              "2021-03-08    5.6895  110612.00000\n",
              "2021-03-09    5.8517  110393.15625\n",
              "\n",
              "[2657 rows x 2 columns]"
            ]
          },
          "metadata": {
            "tags": []
          },
          "execution_count": 64
        }
      ]
    },
    {
      "cell_type": "markdown",
      "metadata": {
        "id": "tAmUAIBHZsI2"
      },
      "source": [
        "## Parte 2 - Faz a limpeza dos dados"
      ]
    },
    {
      "cell_type": "code",
      "metadata": {
        "colab": {
          "base_uri": "https://localhost:8080/",
          "height": 455
        },
        "id": "p6vZGMv21qL8",
        "outputId": "58545978-04cb-4a10-f817-c58a6301c67c"
      },
      "source": [
        "# Limpa os dados NaN (Missing)\r\n",
        "carteira = carteira.dropna()\r\n",
        "carteira"
      ],
      "execution_count": 65,
      "outputs": [
        {
          "output_type": "execute_result",
          "data": {
            "text/html": [
              "<div>\n",
              "<style scoped>\n",
              "    .dataframe tbody tr th:only-of-type {\n",
              "        vertical-align: middle;\n",
              "    }\n",
              "\n",
              "    .dataframe tbody tr th {\n",
              "        vertical-align: top;\n",
              "    }\n",
              "\n",
              "    .dataframe thead th {\n",
              "        text-align: right;\n",
              "    }\n",
              "</style>\n",
              "<table border=\"1\" class=\"dataframe\">\n",
              "  <thead>\n",
              "    <tr style=\"text-align: right;\">\n",
              "      <th></th>\n",
              "      <th>USDBRL=X</th>\n",
              "      <th>^BVSP</th>\n",
              "    </tr>\n",
              "    <tr>\n",
              "      <th>Date</th>\n",
              "      <th></th>\n",
              "      <th></th>\n",
              "    </tr>\n",
              "  </thead>\n",
              "  <tbody>\n",
              "    <tr>\n",
              "      <th>2011-01-03</th>\n",
              "      <td>1.6155</td>\n",
              "      <td>69962.00000</td>\n",
              "    </tr>\n",
              "    <tr>\n",
              "      <th>2011-01-04</th>\n",
              "      <td>1.6465</td>\n",
              "      <td>70318.00000</td>\n",
              "    </tr>\n",
              "    <tr>\n",
              "      <th>2011-01-05</th>\n",
              "      <td>1.6675</td>\n",
              "      <td>71091.00000</td>\n",
              "    </tr>\n",
              "    <tr>\n",
              "      <th>2011-01-06</th>\n",
              "      <td>1.6750</td>\n",
              "      <td>70579.00000</td>\n",
              "    </tr>\n",
              "    <tr>\n",
              "      <th>2011-01-07</th>\n",
              "      <td>1.6859</td>\n",
              "      <td>70057.00000</td>\n",
              "    </tr>\n",
              "    <tr>\n",
              "      <th>...</th>\n",
              "      <td>...</td>\n",
              "      <td>...</td>\n",
              "    </tr>\n",
              "    <tr>\n",
              "      <th>2021-03-03</th>\n",
              "      <td>5.6751</td>\n",
              "      <td>111184.00000</td>\n",
              "    </tr>\n",
              "    <tr>\n",
              "      <th>2021-03-04</th>\n",
              "      <td>5.6175</td>\n",
              "      <td>112690.00000</td>\n",
              "    </tr>\n",
              "    <tr>\n",
              "      <th>2021-03-05</th>\n",
              "      <td>5.6683</td>\n",
              "      <td>115202.00000</td>\n",
              "    </tr>\n",
              "    <tr>\n",
              "      <th>2021-03-08</th>\n",
              "      <td>5.6895</td>\n",
              "      <td>110612.00000</td>\n",
              "    </tr>\n",
              "    <tr>\n",
              "      <th>2021-03-09</th>\n",
              "      <td>5.8517</td>\n",
              "      <td>110393.15625</td>\n",
              "    </tr>\n",
              "  </tbody>\n",
              "</table>\n",
              "<p>2488 rows × 2 columns</p>\n",
              "</div>"
            ],
            "text/plain": [
              "            USDBRL=X         ^BVSP\n",
              "Date                              \n",
              "2011-01-03    1.6155   69962.00000\n",
              "2011-01-04    1.6465   70318.00000\n",
              "2011-01-05    1.6675   71091.00000\n",
              "2011-01-06    1.6750   70579.00000\n",
              "2011-01-07    1.6859   70057.00000\n",
              "...              ...           ...\n",
              "2021-03-03    5.6751  111184.00000\n",
              "2021-03-04    5.6175  112690.00000\n",
              "2021-03-05    5.6683  115202.00000\n",
              "2021-03-08    5.6895  110612.00000\n",
              "2021-03-09    5.8517  110393.15625\n",
              "\n",
              "[2488 rows x 2 columns]"
            ]
          },
          "metadata": {
            "tags": []
          },
          "execution_count": 65
        }
      ]
    },
    {
      "cell_type": "code",
      "metadata": {
        "colab": {
          "base_uri": "https://localhost:8080/",
          "height": 455
        },
        "id": "ISsTkUEj1rs9",
        "outputId": "aa9fbfe7-feee-468f-b3fc-4c215cc987fa"
      },
      "source": [
        "# Cria a carteira com colunas de Dolar e o IBOV\r\n",
        "carteira.columns = [\"DOLAR\", \"IBOV\"]\r\n",
        "carteira"
      ],
      "execution_count": 66,
      "outputs": [
        {
          "output_type": "execute_result",
          "data": {
            "text/html": [
              "<div>\n",
              "<style scoped>\n",
              "    .dataframe tbody tr th:only-of-type {\n",
              "        vertical-align: middle;\n",
              "    }\n",
              "\n",
              "    .dataframe tbody tr th {\n",
              "        vertical-align: top;\n",
              "    }\n",
              "\n",
              "    .dataframe thead th {\n",
              "        text-align: right;\n",
              "    }\n",
              "</style>\n",
              "<table border=\"1\" class=\"dataframe\">\n",
              "  <thead>\n",
              "    <tr style=\"text-align: right;\">\n",
              "      <th></th>\n",
              "      <th>DOLAR</th>\n",
              "      <th>IBOV</th>\n",
              "    </tr>\n",
              "    <tr>\n",
              "      <th>Date</th>\n",
              "      <th></th>\n",
              "      <th></th>\n",
              "    </tr>\n",
              "  </thead>\n",
              "  <tbody>\n",
              "    <tr>\n",
              "      <th>2011-01-03</th>\n",
              "      <td>1.6155</td>\n",
              "      <td>69962.00000</td>\n",
              "    </tr>\n",
              "    <tr>\n",
              "      <th>2011-01-04</th>\n",
              "      <td>1.6465</td>\n",
              "      <td>70318.00000</td>\n",
              "    </tr>\n",
              "    <tr>\n",
              "      <th>2011-01-05</th>\n",
              "      <td>1.6675</td>\n",
              "      <td>71091.00000</td>\n",
              "    </tr>\n",
              "    <tr>\n",
              "      <th>2011-01-06</th>\n",
              "      <td>1.6750</td>\n",
              "      <td>70579.00000</td>\n",
              "    </tr>\n",
              "    <tr>\n",
              "      <th>2011-01-07</th>\n",
              "      <td>1.6859</td>\n",
              "      <td>70057.00000</td>\n",
              "    </tr>\n",
              "    <tr>\n",
              "      <th>...</th>\n",
              "      <td>...</td>\n",
              "      <td>...</td>\n",
              "    </tr>\n",
              "    <tr>\n",
              "      <th>2021-03-03</th>\n",
              "      <td>5.6751</td>\n",
              "      <td>111184.00000</td>\n",
              "    </tr>\n",
              "    <tr>\n",
              "      <th>2021-03-04</th>\n",
              "      <td>5.6175</td>\n",
              "      <td>112690.00000</td>\n",
              "    </tr>\n",
              "    <tr>\n",
              "      <th>2021-03-05</th>\n",
              "      <td>5.6683</td>\n",
              "      <td>115202.00000</td>\n",
              "    </tr>\n",
              "    <tr>\n",
              "      <th>2021-03-08</th>\n",
              "      <td>5.6895</td>\n",
              "      <td>110612.00000</td>\n",
              "    </tr>\n",
              "    <tr>\n",
              "      <th>2021-03-09</th>\n",
              "      <td>5.8517</td>\n",
              "      <td>110393.15625</td>\n",
              "    </tr>\n",
              "  </tbody>\n",
              "</table>\n",
              "<p>2488 rows × 2 columns</p>\n",
              "</div>"
            ],
            "text/plain": [
              "             DOLAR          IBOV\n",
              "Date                            \n",
              "2011-01-03  1.6155   69962.00000\n",
              "2011-01-04  1.6465   70318.00000\n",
              "2011-01-05  1.6675   71091.00000\n",
              "2011-01-06  1.6750   70579.00000\n",
              "2011-01-07  1.6859   70057.00000\n",
              "...            ...           ...\n",
              "2021-03-03  5.6751  111184.00000\n",
              "2021-03-04  5.6175  112690.00000\n",
              "2021-03-05  5.6683  115202.00000\n",
              "2021-03-08  5.6895  110612.00000\n",
              "2021-03-09  5.8517  110393.15625\n",
              "\n",
              "[2488 rows x 2 columns]"
            ]
          },
          "metadata": {
            "tags": []
          },
          "execution_count": 66
        }
      ]
    },
    {
      "cell_type": "markdown",
      "metadata": {
        "id": "IiPTlnS-ZxR6"
      },
      "source": [
        "## Parte 3 - Faz a plotagem dos Gráficos"
      ]
    },
    {
      "cell_type": "code",
      "metadata": {
        "colab": {
          "base_uri": "https://localhost:8080/",
          "height": 472
        },
        "id": "qxRGnOFa1up9",
        "outputId": "648466dc-2915-4002-848e-a34af0dd3d97"
      },
      "source": [
        "# Faz a plotagem dos Gráficos\r\n",
        "\r\n",
        "sns.set()\r\n",
        "carteira.plot(subplots=True, figsize=(22,8)); # Aqui foi utilizado a opção subplots"
      ],
      "execution_count": 67,
      "outputs": [
        {
          "output_type": "display_data",
          "data": {
            "image/png": "[encoded data removed]",
            "text/plain": [
              "<Figure size 1584x576 with 2 Axes>"
            ]
          },
          "metadata": {
            "tags": []
          }
        }
      ]
    },
    {
      "cell_type": "markdown",
      "metadata": {
        "id": "lSLDD8F0Z29M"
      },
      "source": [
        "## Parte 4 - Análises dos dados e plotagens"
      ]
    },
    {
      "cell_type": "code",
      "metadata": {
        "id": "DsW6mpxV1x0f"
      },
      "source": [
        "retornos = carteira.pct_change()[1:]\r\n",
        "retornos"
      ],
      "execution_count": null,
      "outputs": []
    },
    {
      "cell_type": "code",
      "metadata": {
        "id": "HyBoXfky1zho"
      },
      "source": [
        "retornos.describe()"
      ],
      "execution_count": null,
      "outputs": []
    },
    {
      "cell_type": "code",
      "metadata": {
        "id": "qAQnNgas11YX"
      },
      "source": [
        "# Gráfico de correlação comparando os retornos\r\n",
        "sns.heatmap(retornos.corr(), annot=True);"
      ],
      "execution_count": null,
      "outputs": []
    },
    {
      "cell_type": "code",
      "metadata": {
        "id": "nntZN4Wi12_x"
      },
      "source": [
        "# Gráfico da correlação do IBOV e Dollar\r\n",
        "\r\n",
        "retornos[\"DOLAR\"].rolling(252).corr(retornos[\"IBOV\"]).plot(figsize=(22,8));"
      ],
      "execution_count": null,
      "outputs": []
    },
    {
      "cell_type": "code",
      "metadata": {
        "id": "XI72G6dN145F"
      },
      "source": [
        "# Cria coluna do IBOV Dolarizado\r\n",
        "carteira[\"IBOV_DOLARIZADO\"] = (carteira[\"IBOV\"] / carteira[\"DOLAR\"])\r\n",
        "carteira"
      ],
      "execution_count": null,
      "outputs": []
    },
    {
      "cell_type": "code",
      "metadata": {
        "id": "GsUD5Ivy16lx"
      },
      "source": [
        "# Conjunto de Gráficos para análise dos retornos\r\n",
        "sns.pairplot(retornos);"
      ],
      "execution_count": null,
      "outputs": []
    }
  ]
}